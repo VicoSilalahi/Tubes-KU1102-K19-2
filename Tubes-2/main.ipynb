{
 "cells": [
  {
   "cell_type": "markdown",
   "metadata": {},
   "source": [
    "Data diambil dari: \\\n",
    "https://www.kaggle.com/datasets/rankirsh/esports-earnings/data\n",
    "\n",
    "Data berbentuk CSV (Comma Separated Values), dengan 2 buah file CSV. Attribute ada 12 jika ditotal sebelum digabung."
   ]
  },
  {
   "cell_type": "code",
   "execution_count": 12,
   "metadata": {},
   "outputs": [],
   "source": [
    "import pandas as pd\n",
    "import matplotlib.pyplot as plt\n",
    "import numpy as np"
   ]
  },
  {
   "cell_type": "code",
   "execution_count": 13,
   "metadata": {},
   "outputs": [],
   "source": [
    "hdf = pd.read_csv('dataset/HistoricalEsportData.csv')\n",
    "gdf= pd.read_csv('dataset/GeneralEsportData.csv')"
   ]
  },
  {
   "cell_type": "code",
   "execution_count": 14,
   "metadata": {},
   "outputs": [
    {
     "name": "stdout",
     "output_type": "stream",
     "text": [
      "         Date                          Game  Earnings  Players  Tournaments\n",
      "0  1998-01-01  Command & Conquer: Red Alert   15000.0        8            1\n",
      "1  1998-01-01                    QuakeWorld   15000.0        8            1\n",
      "2  1998-05-01                      Quake II   15000.0        4            1\n",
      "3  1998-05-01            Total Annihilation   15000.0        2            1\n",
      "4  1998-05-01                    QuakeWorld     300.0        3            1\n",
      "                    Game  ReleaseDate     Genre  TotalEarnings  \\\n",
      "0         Age of Empires         1997  Strategy      510716.46   \n",
      "1      Age of Empires II         1999  Strategy     3253232.59   \n",
      "2     Age of Empires III         2005  Strategy      115843.65   \n",
      "3      Age of Empires IV         2021  Strategy      994675.03   \n",
      "4  Age of Empires Online         2011  Strategy        9806.56   \n",
      "\n",
      "   OfflineEarnings  PercentOffline  TotalPlayers  TotalTournaments  \n",
      "0        375857.63        0.735942           473               265  \n",
      "1       1139384.57        0.350232          1994              1613  \n",
      "2         41800.00        0.360831           166               163  \n",
      "3        409117.93        0.411308           542               327  \n",
      "4           775.00        0.079029            44                50  \n"
     ]
    }
   ],
   "source": [
    "print(hdf.head())\n",
    "print(gdf.head())"
   ]
  },
  {
   "cell_type": "markdown",
   "metadata": {},
   "source": [
    "## Penjelasan Karakteristik Data\n",
    "### HistoricalEsportData.csv - hdf\n",
    "Date: Tanggal turnamen berlangsung | Quantitative-Discrete\\\n",
    "Game: Nama game yang dimainkan dalam turnamen tersebut | Categorical-Nominal\\\n",
    "Earnings: Total hadiah dari turnamen tersebut | Quantitative-Continues\\\n",
    "Players: Jumlah pemain yang bermain di turnamen tersebut | Quantitative-Discrete\\\n",
    "Tournament: Jumlah turnamen yang berlangsung pada tanggal tersebut sekaligus | Quantitative-Discrete\\\n",
    "\n",
    "### GeneralEsportData.csv - gdf\n",
    "Game: Nama game | Categorical-Nominal\\\n",
    "ReleaseDate: Tahun game tersebut dirilis | Quantitative-Discrete\\\n",
    "Genre: Genre game | Categorical-Nominal\\\n",
    "TotalEarnings: Total hadiah dari semua turnamen game tersebut | Quantitative-Continues\\\n",
    "OfflineEarnings: Total hadiah dari semua turnamen offline game tersebut | Quantitative-Continues\\\n",
    "PercentOffline: Berapa persen turnamen game tersebut berlangsung secara offline | Quantitative-Continues\\\n",
    "TotalPlayers: Jumlah pemain yang pernah bertanding di turnamen game tersebut | Quantiative-Discrete\\\n",
    "TotalTournaments: Jumlah turnamen yang pernah berlangsung | Quantitative-Discrete"
   ]
  },
  {
   "cell_type": "code",
   "execution_count": 15,
   "metadata": {},
   "outputs": [
    {
     "name": "stdout",
     "output_type": "stream",
     "text": [
      "<class 'pandas.core.frame.DataFrame'>\n",
      "RangeIndex: 650 entries, 0 to 649\n",
      "Data columns (total 8 columns):\n",
      " #   Column            Non-Null Count  Dtype  \n",
      "---  ------            --------------  -----  \n",
      " 0   Game              650 non-null    object \n",
      " 1   ReleaseDate       650 non-null    int64  \n",
      " 2   Genre             650 non-null    object \n",
      " 3   TotalEarnings     650 non-null    float64\n",
      " 4   OfflineEarnings   650 non-null    float64\n",
      " 5   PercentOffline    583 non-null    float64\n",
      " 6   TotalPlayers      650 non-null    int64  \n",
      " 7   TotalTournaments  650 non-null    int64  \n",
      "dtypes: float64(3), int64(3), object(2)\n",
      "memory usage: 40.8+ KB\n",
      "None\n",
      "<class 'pandas.core.frame.DataFrame'>\n",
      "RangeIndex: 9244 entries, 0 to 9243\n",
      "Data columns (total 5 columns):\n",
      " #   Column       Non-Null Count  Dtype  \n",
      "---  ------       --------------  -----  \n",
      " 0   Date         9244 non-null   object \n",
      " 1   Game         9244 non-null   object \n",
      " 2   Earnings     9244 non-null   float64\n",
      " 3   Players      9244 non-null   int64  \n",
      " 4   Tournaments  9244 non-null   int64  \n",
      "dtypes: float64(1), int64(2), object(2)\n",
      "memory usage: 361.2+ KB\n",
      "None\n"
     ]
    }
   ],
   "source": [
    "print(gdf.info())\n",
    "print(hdf.info())"
   ]
  },
  {
   "cell_type": "code",
   "execution_count": 16,
   "metadata": {},
   "outputs": [],
   "source": [
    "hdf_g = pd.merge(hdf, gdf[['Game', 'Genre']], on='Game', how='left')\n",
    "# Memberikan kolom Genre pada dataframe Historical, sehingga lebih mudah untuk dianalisis"
   ]
  },
  {
   "cell_type": "code",
   "execution_count": 17,
   "metadata": {},
   "outputs": [
    {
     "data": {
      "text/html": [
       "<div>\n",
       "<style scoped>\n",
       "    .dataframe tbody tr th:only-of-type {\n",
       "        vertical-align: middle;\n",
       "    }\n",
       "\n",
       "    .dataframe tbody tr th {\n",
       "        vertical-align: top;\n",
       "    }\n",
       "\n",
       "    .dataframe thead th {\n",
       "        text-align: right;\n",
       "    }\n",
       "</style>\n",
       "<table border=\"1\" class=\"dataframe\">\n",
       "  <thead>\n",
       "    <tr style=\"text-align: right;\">\n",
       "      <th></th>\n",
       "      <th>Date</th>\n",
       "      <th>Game</th>\n",
       "      <th>Earnings</th>\n",
       "      <th>Players</th>\n",
       "      <th>Tournaments</th>\n",
       "      <th>Genre</th>\n",
       "    </tr>\n",
       "  </thead>\n",
       "  <tbody>\n",
       "    <tr>\n",
       "      <th>0</th>\n",
       "      <td>1998-01-01</td>\n",
       "      <td>Command &amp; Conquer: Red Alert</td>\n",
       "      <td>15000.0</td>\n",
       "      <td>8</td>\n",
       "      <td>1</td>\n",
       "      <td>Strategy</td>\n",
       "    </tr>\n",
       "    <tr>\n",
       "      <th>1</th>\n",
       "      <td>1998-01-01</td>\n",
       "      <td>QuakeWorld</td>\n",
       "      <td>15000.0</td>\n",
       "      <td>8</td>\n",
       "      <td>1</td>\n",
       "      <td>First-Person Shooter</td>\n",
       "    </tr>\n",
       "    <tr>\n",
       "      <th>2</th>\n",
       "      <td>1998-05-01</td>\n",
       "      <td>Quake II</td>\n",
       "      <td>15000.0</td>\n",
       "      <td>4</td>\n",
       "      <td>1</td>\n",
       "      <td>First-Person Shooter</td>\n",
       "    </tr>\n",
       "    <tr>\n",
       "      <th>3</th>\n",
       "      <td>1998-05-01</td>\n",
       "      <td>Total Annihilation</td>\n",
       "      <td>15000.0</td>\n",
       "      <td>2</td>\n",
       "      <td>1</td>\n",
       "      <td>Strategy</td>\n",
       "    </tr>\n",
       "    <tr>\n",
       "      <th>4</th>\n",
       "      <td>1998-05-01</td>\n",
       "      <td>QuakeWorld</td>\n",
       "      <td>300.0</td>\n",
       "      <td>3</td>\n",
       "      <td>1</td>\n",
       "      <td>First-Person Shooter</td>\n",
       "    </tr>\n",
       "  </tbody>\n",
       "</table>\n",
       "</div>"
      ],
      "text/plain": [
       "         Date                          Game  Earnings  Players  Tournaments  \\\n",
       "0  1998-01-01  Command & Conquer: Red Alert   15000.0        8            1   \n",
       "1  1998-01-01                    QuakeWorld   15000.0        8            1   \n",
       "2  1998-05-01                      Quake II   15000.0        4            1   \n",
       "3  1998-05-01            Total Annihilation   15000.0        2            1   \n",
       "4  1998-05-01                    QuakeWorld     300.0        3            1   \n",
       "\n",
       "                  Genre  \n",
       "0              Strategy  \n",
       "1  First-Person Shooter  \n",
       "2  First-Person Shooter  \n",
       "3              Strategy  \n",
       "4  First-Person Shooter  "
      ]
     },
     "execution_count": 17,
     "metadata": {},
     "output_type": "execute_result"
    }
   ],
   "source": [
    "hdf_g.head()"
   ]
  }
 ],
 "metadata": {
  "kernelspec": {
   "display_name": "Python 3",
   "language": "python",
   "name": "python3"
  },
  "language_info": {
   "codemirror_mode": {
    "name": "ipython",
    "version": 3
   },
   "file_extension": ".py",
   "mimetype": "text/x-python",
   "name": "python",
   "nbconvert_exporter": "python",
   "pygments_lexer": "ipython3",
   "version": "3.11.4"
  }
 },
 "nbformat": 4,
 "nbformat_minor": 2
}
